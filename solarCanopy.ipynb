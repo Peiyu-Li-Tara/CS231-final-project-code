{
 "cells": [
  {
   "cell_type": "code",
   "execution_count": 1,
   "id": "00217804-3642-4f5c-84a7-a9b2488165dc",
   "metadata": {
    "id": "00217804-3642-4f5c-84a7-a9b2488165dc"
   },
   "outputs": [],
   "source": [
    "import osmnx as ox # open street map API\n",
    "import ee # GEE API\n",
    "import geopandas as gpd # geopandas\n",
    "\n",
    "import json\n",
    "import numpy as np\n",
    "import pandas as pd\n",
    "from shapely.geometry import Point\n",
    "import rasterio\n",
    "import matplotlib.pyplot as plt\n",
    "import os\n",
    "from PIL import Image"
   ]
  },
  {
   "cell_type": "code",
   "execution_count": 2,
   "id": "e692c97a-acbd-4de6-a51a-37de29950d79",
   "metadata": {
    "id": "e692c97a-acbd-4de6-a51a-37de29950d79"
   },
   "outputs": [],
   "source": [
    "pd.set_option(\"display.max_rows\", 10000)"
   ]
  },
  {
   "cell_type": "code",
   "execution_count": 3,
   "id": "0ff54d95",
   "metadata": {},
   "outputs": [],
   "source": [
    "ee.Initialize(project='cs231n-457303')"
   ]
  },
  {
   "cell_type": "code",
   "execution_count": 4,
   "id": "6288ad3e",
   "metadata": {},
   "outputs": [],
   "source": [
    "OUTPUT_PATH = r\"C:\\Users\\renee\\Documents\\cs231n\\solarTestFiles\\outputs\""
   ]
  },
  {
   "cell_type": "markdown",
   "id": "64b8cbe1-ab2b-420a-b364-2ba4d99cdcad",
   "metadata": {
    "id": "64b8cbe1-ab2b-420a-b364-2ba4d99cdcad"
   },
   "source": [
    "## Helper functions"
   ]
  },
  {
   "cell_type": "code",
   "execution_count": 5,
   "id": "d624938e-376c-4e0b-98c2-8b09eed3765d",
   "metadata": {
    "id": "d624938e-376c-4e0b-98c2-8b09eed3765d"
   },
   "outputs": [],
   "source": [
    "# Dont actually use this as of now but kept around just in case\n",
    "# Compute relative direction for each matched pair\n",
    "def get_dir(row):\n",
    "    x1, y1 = row.geometry.coords[0]          # building centroid\n",
    "    x2, y2 = gdf_lot_pts.loc[row.lot_idx].geometry.coords[0]  # lot centroid\n",
    "\n",
    "    dx = x1 - x2\n",
    "    dy = y1 - y2\n",
    "    angle = (np.degrees(np.arctan2(dy, dx)) + 360) % 360\n",
    "\n",
    "    if 135 <= angle <= 225:\n",
    "        return \"south\"\n",
    "    elif 45 <= angle < 135:\n",
    "        return \"east\"\n",
    "    elif 225 < angle <= 315:\n",
    "        return \"west\"\n",
    "    else:\n",
    "        return \"north\""
   ]
  },
  {
   "cell_type": "markdown",
   "id": "bbc4564b-8944-4d15-8f80-ded6257ee56e",
   "metadata": {
    "id": "bbc4564b-8944-4d15-8f80-ded6257ee56e"
   },
   "source": [
    "## Automatic\n",
    "## pull data for a region"
   ]
  },
  {
   "cell_type": "code",
   "execution_count": 6,
   "id": "fde2fd10-1eeb-4d4f-baa9-0ec64ad33798",
   "metadata": {
    "id": "fde2fd10-1eeb-4d4f-baa9-0ec64ad33798"
   },
   "outputs": [
    {
     "name": "stdout",
     "output_type": "stream",
     "text": [
      "17162\n",
      "16941\n",
      "16941\n"
     ]
    }
   ],
   "source": [
    "tags = {\"amenity\": \"parking\"}\n",
    "region = \"Los Angeles, California\"\n",
    "gdf_all = ox.features_from_place(region, tags=tags)\n",
    "print(len(gdf_all))\n",
    "# drop parking lots that only have centorid (not bounding box)\n",
    "gdf_all = gdf_all.loc[gdf_all.index.get_level_values(0).isin(['way', 'relation'])]\n",
    "print(len(gdf_all))\n",
    "gdf_poly = gdf_all[gdf_all.geom_type.isin([\"Polygon\", \"MultiPolygon\"])]\n",
    "gdf_poly = gdf_poly.reset_index(drop=False)\n",
    "print(len(gdf_poly))"
   ]
  },
  {
   "cell_type": "markdown",
   "id": "2d806ba8",
   "metadata": {},
   "source": [
    "## export shapefiles"
   ]
  },
  {
   "cell_type": "code",
   "execution_count": 53,
   "id": "8534eb1a-abce-4bc8-a6b6-8e370c09af56",
   "metadata": {
    "id": "8534eb1a-abce-4bc8-a6b6-8e370c09af56"
   },
   "outputs": [
    {
     "name": "stdout",
     "output_type": "stream",
     "text": [
      "Saved JSON to C:\\Users\\renee\\Documents\\cs231n\\solarTestFiles\\outputs\\png_to_coords.json\n"
     ]
    }
   ],
   "source": [
    "png_to_coords = dict()\n",
    "\n",
    "# Export as shapefile\n",
    "for i in range(10000, len(gdf_poly)):\n",
    "    path = os.path.join(OUTPUT_PATH, f\"shapefiles\\lot{i}\")\n",
    "    png_name = f\"lot{i}.png\"\n",
    "    lot = gdf_poly.iloc[i].geometry\n",
    "    y = lot.centroid.y\n",
    "    x = lot.centroid.x\n",
    "    lot = gpd.GeoDataFrame(geometry=[lot], crs=\"EPSG:4326\")\n",
    "    lot.to_file(path, driver=\"ESRI Shapefile\")\n",
    "    lot_metric = lot.to_crs(\"EPSG:3857\")\n",
    "    area_m2 = lot_metric.geometry[0].area  # in square meters\n",
    "    png_to_coords[png_name] = {\"lat\": y, \"lon\": x, \"area\": area_m2}\n",
    "\n",
    "# Save to JSON file\n",
    "output_path = os.path.join(OUTPUT_PATH, \"png_to_coords.json\")\n",
    "with open(output_path, \"w\") as f:\n",
    "    json.dump(png_to_coords, f, indent=2)\n",
    "\n",
    "print(f\"Saved JSON to {output_path}\")"
   ]
  },
  {
   "cell_type": "code",
   "execution_count": null,
   "id": "xA_mAmn4sZZQ",
   "metadata": {
    "colab": {
     "base_uri": "https://localhost:8080/"
    },
    "id": "xA_mAmn4sZZQ",
    "outputId": "1f6ab584-6213-4aa4-ed44-47f7ed6321b3"
   },
   "outputs": [
    {
     "name": "stdout",
     "output_type": "stream",
     "text": [
      "[{'type': 'Folder', 'id': 'projects/cs231n-457303/assets/folder_of_assets'}, {'type': 'Table', 'id': 'projects/cs231n-457303/assets/lot0'}, {'type': 'Table', 'id': 'projects/cs231n-457303/assets/lot1'}, {'type': 'Table', 'id': 'projects/cs231n-457303/assets/lot2'}, {'type': 'Table', 'id': 'projects/cs231n-457303/assets/lot3'}, {'type': 'Table', 'id': 'projects/cs231n-457303/assets/lot4'}, {'type': 'Table', 'id': 'projects/cs231n-457303/assets/lot_shapefile1'}, {'type': 'Table', 'id': 'projects/cs231n-457303/assets/lot_shapefile10'}, {'type': 'Table', 'id': 'projects/cs231n-457303/assets/lot_shapefile2'}, {'type': 'Table', 'id': 'projects/cs231n-457303/assets/lot_shapefile3'}, {'type': 'Table', 'id': 'projects/cs231n-457303/assets/lot_shapefile4'}, {'type': 'Table', 'id': 'projects/cs231n-457303/assets/lot_shapefile5'}, {'type': 'Table', 'id': 'projects/cs231n-457303/assets/lot_shapefile6'}, {'type': 'Table', 'id': 'projects/cs231n-457303/assets/lot_shapefile7'}, {'type': 'Table', 'id': 'projects/cs231n-457303/assets/lot_shapefile8'}, {'type': 'Table', 'id': 'projects/cs231n-457303/assets/lot_shapefile9'}]\n"
     ]
    }
   ],
   "source": [
    "# Initialize GEE\n",
    "ee.Initialize(project='cs231n-457303')\n",
    "print(ee.data.getAssetRoots())"
   ]
  },
  {
   "cell_type": "code",
   "execution_count": null,
   "id": "64a26697-06b8-4771-8e1f-a20d27273dd2",
   "metadata": {
    "colab": {
     "base_uri": "https://localhost:8080/",
     "height": 443
    },
    "id": "64a26697-06b8-4771-8e1f-a20d27273dd2",
    "outputId": "201511e2-e9d0-4df2-ded8-19bed8a3a666"
   },
   "outputs": [],
   "source": [
    "for i in range(16000, 16941):\n",
    "    # Load shapefile and get geometry\n",
    "    geom = gpd.read_file(f\"{OUTPUT_PATH}\\shapefiles\\lot{i}\\lot{i}.shp\")\n",
    "    geom = geom.iloc[0].geometry.__geo_interface__  # GeoJSON-style dict\n",
    "    geom = ee.Geometry(geom)\n",
    "    geom = geom.buffer(10)\n",
    "\n",
    "    # get naip image\n",
    "    naip = ee.ImageCollection(\"USDA/NAIP/DOQQ\") \\\n",
    "        .filterBounds(geom) \\\n",
    "        .filterDate(\"2018-01-01\", \"2023-12-31\")\n",
    "    naip = naip.mosaic().clip(geom)\n",
    "    naip = naip.visualize(\n",
    "        bands=['R', 'G', 'B'],\n",
    "        min=0,\n",
    "        max=255\n",
    "    )\n",
    "\n",
    "    # send task\n",
    "    task = ee.batch.Export.image.toDrive(\n",
    "        image=naip,\n",
    "        description=f'lot{i}',\n",
    "        folder='earthengine2',\n",
    "        fileNamePrefix=f'lot{i}',\n",
    "        region=geom.bounds().getInfo()['coordinates'],\n",
    "        scale=0.6,\n",
    "        crs='EPSG:4326',\n",
    "        maxPixels=1e9,\n",
    "    )\n",
    "    task.start()"
   ]
  },
  {
   "cell_type": "code",
   "execution_count": null,
   "id": "8937b5eb-3eae-4464-ab5f-2a8e814272c2",
   "metadata": {
    "id": "8937b5eb-3eae-4464-ab5f-2a8e814272c2"
   },
   "outputs": [
    {
     "name": "stdout",
     "output_type": "stream",
     "text": [
      "{'state': 'COMPLETED', 'description': 'lot16940', 'priority': 100, 'creation_timestamp_ms': 1749015566286, 'update_timestamp_ms': 1749020117890, 'start_timestamp_ms': 1749020106342, 'task_type': 'EXPORT_IMAGE', 'destination_uris': ['https://drive.google.com/#folders/1yF9o7XQtlp6DXeU3IwHbKZysDeJTZn9i'], 'attempt': 1, 'batch_eecu_usage_seconds': 0.3071926236152649, 'id': 'VAE4BK762H2WHOBWIY7QEFYV', 'name': 'projects/cs231n-457303/operations/VAE4BK762H2WHOBWIY7QEFYV'}\n"
     ]
    }
   ],
   "source": [
    "print(task.status())"
   ]
  },
  {
   "cell_type": "code",
   "execution_count": 103,
   "id": "b31b963a-6a4f-4313-b086-7c3a2cbf5db9",
   "metadata": {
    "id": "b31b963a-6a4f-4313-b086-7c3a2cbf5db9"
   },
   "outputs": [],
   "source": [
    "for i in range(16000, len(gdf_poly)):\n",
    "    tif_path = os.path.join(OUTPUT_PATH, f\"tifs\\lot{i}.tif\")\n",
    "\n",
    "    # Load TIF\n",
    "    with rasterio.open(tif_path) as src:\n",
    "        array = src.read([1, 2, 3])  # RGB bands\n",
    "        array = np.transpose(array, (1, 2, 0))  # CHW -> HWC\n",
    "\n",
    "    array = array.astype(np.float32)\n",
    "    array = 255 * (array - array.min()) / (array.max() - array.min())\n",
    "    array = array.astype(np.uint8)\n",
    "\n",
    "    # Save to PNG\n",
    "    img_path = os.path.join(OUTPUT_PATH, f\"pngs/lot{i}.png\")\n",
    "    Image.fromarray(array).save(img_path)"
   ]
  },
  {
   "cell_type": "code",
   "execution_count": null,
   "id": "22a04dcb",
   "metadata": {},
   "outputs": [
    {
     "name": "stdout",
     "output_type": "stream",
     "text": [
      "Finished fetching solar irradiance data.\n"
     ]
    }
   ],
   "source": [
    "import requests\n",
    "import time\n",
    "\n",
    "with open(os.path.join(OUTPUT_PATH, \"png_to_coords.json\"), \"r\") as f:\n",
    "    png_coords = json.load(f)\n",
    "\n",
    "url = \"https://developer.nrel.gov/api/solar/solar_resource/v1.json\"\n",
    "api_key = \"u3hOthZll5RD2nYBa2isJRKzfM1JQ99wEA8D1eQM\"\n",
    "\n",
    "solar_data = {}\n",
    "from itertools import islice\n",
    "first_1000 = dict(islice(png_coords.items(), min(1000, len(png_coords))))\n",
    "\n",
    "with open(os.path.join(OUTPUT_PATH, \"solar_irradiance_results.json\"), \"r\") as f:\n",
    "    solar_data = json.load(f)\n",
    "\n",
    "for png_name, coords in first_1000.items():\n",
    "    lon = coords[\"lon\"]\n",
    "    lat = coords[\"lat\"]\n",
    "    area = coords[\"area\"]\n",
    "\n",
    "    params = {\n",
    "    \"api_key\": api_key,\n",
    "    \"lat\": lat,\n",
    "    \"lon\": lon\n",
    "    }\n",
    "\n",
    "    try:\n",
    "        response = requests.get(url, params=params)\n",
    "        if response.status_code == 200:\n",
    "            data = response.json()\n",
    "            annual_irrad = data['outputs']['avg_dni']['annual']  # Direct Normal Irradiance (DNI)\n",
    "            solar_data[png_name] = {\n",
    "                \"lat\": lat,\n",
    "                \"lon\": lon,\n",
    "                \"area\": area,\n",
    "                \"annual_dni_kWh/m2/day\": annual_irrad\n",
    "            }\n",
    "        else:\n",
    "            print(f\"Failed for {png_name}: {response.status_code}\")\n",
    "            solar_data[png_name] = {\"error\": f\"Status code {response.status_code}\"}\n",
    "    except Exception as e:\n",
    "        print(f\"Error for {png_name}: {e}\")\n",
    "        solar_data[png_name] = {\"error\": str(e)}\n",
    "\n",
    "    time.sleep(0.1)  # be polite to the API\n",
    "\n",
    "# Save results\n",
    "with open(os.path.join(OUTPUT_PATH, \"solar_irradiance_results.json\"), \"w\") as f:\n",
    "    json.dump(solar_data, f, indent=2)\n",
    "\n",
    "print(\"Finished fetching solar irradiance data.\")"
   ]
  }
 ],
 "metadata": {
  "colab": {
   "provenance": []
  },
  "kernelspec": {
   "display_name": "Python 3",
   "language": "python",
   "name": "python3"
  },
  "language_info": {
   "codemirror_mode": {
    "name": "ipython",
    "version": 3
   },
   "file_extension": ".py",
   "mimetype": "text/x-python",
   "name": "python",
   "nbconvert_exporter": "python",
   "pygments_lexer": "ipython3",
   "version": "3.11.9"
  }
 },
 "nbformat": 4,
 "nbformat_minor": 5
}
